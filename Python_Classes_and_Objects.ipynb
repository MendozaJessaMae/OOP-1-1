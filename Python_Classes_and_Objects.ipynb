{
  "cells": [
    {
      "cell_type": "markdown",
      "metadata": {
        "id": "view-in-github",
        "colab_type": "text"
      },
      "source": [
        "<a href=\"https://colab.research.google.com/github/MendozaJessaMae/OOP-1-1/blob/main/Python_Classes_and_Objects.ipynb\" target=\"_parent\"><img src=\"https://colab.research.google.com/assets/colab-badge.svg\" alt=\"Open In Colab\"/></a>"
      ]
    },
    {
      "cell_type": "markdown",
      "source": [
        "Class"
      ],
      "metadata": {
        "id": "rnhVFMh3zgiQ"
      }
    },
    {
      "cell_type": "code",
      "source": [
        "class MyClass:\n",
        "  pass          #create a class with or witout method"
      ],
      "metadata": {
        "id": "JhOaa2jdzjZ5"
      },
      "execution_count": 1,
      "outputs": []
    },
    {
      "cell_type": "code",
      "source": [
        "class MyClass:\n",
        "  def __init__(self,name,age):\n",
        "    self.name = name           #create a class with attributes \n",
        "    self.age = age\n",
        "\n",
        "  def display(self):\n",
        "    print(self.name,self.age)\n",
        "\n",
        "person = MyClass(\"Jessa Mae Mendoza\", 18)   #create an object name\n",
        "\n",
        "print(person.name)\n",
        "print(person.age)\n",
        "\n",
        "  "
      ],
      "metadata": {
        "colab": {
          "base_uri": "https://localhost:8080/"
        },
        "id": "h9Zq3VHS0DBw",
        "outputId": "9d355fd7-7e77-4d63-b103-5efa45b0edd7"
      },
      "execution_count": 11,
      "outputs": [
        {
          "output_type": "stream",
          "name": "stdout",
          "text": [
            "Jessa Mae Mendoza\n",
            "18\n"
          ]
        }
      ]
    },
    {
      "cell_type": "code",
      "source": [
        "class MyClass:\n",
        "  def __init__(self,name,age):\n",
        "    self.name = name\n",
        "    self.age = age\n",
        "\n",
        "  def display(self):\n",
        "    print(self.name,self.age)\n",
        "\n",
        "person = MyClass(\"Jessa Mae Mendoza\", 18)\n",
        "\n",
        "person.display()\n"
      ],
      "metadata": {
        "colab": {
          "base_uri": "https://localhost:8080/"
        },
        "id": "HBJLvHcZ3ZEI",
        "outputId": "b8e8e3f5-56bc-4e17-aaa6-27cd7932a37f"
      },
      "execution_count": 12,
      "outputs": [
        {
          "output_type": "stream",
          "name": "stdout",
          "text": [
            "Jessa Mae Mendoza 18\n"
          ]
        }
      ]
    },
    {
      "cell_type": "code",
      "source": [
        "#Application 1- Write a Python program that computes for an area of rectangle: A=lxw\n",
        "\n",
        "class Rectangle:\n",
        "  def __init__(self,l,w):\n",
        "    self.l = l             #attribute names\n",
        "    self.w = w\n",
        "\n",
        "  def Area(self):\n",
        "    print(self.l*self.w)\n",
        "\n",
        "rect = Rectangle(7,3)\n",
        "rect.Area()"
      ],
      "metadata": {
        "colab": {
          "base_uri": "https://localhost:8080/"
        },
        "id": "MaYERLul3vob",
        "outputId": "5c51666c-2460-4748-a00b-e3a12500fb4a"
      },
      "execution_count": 10,
      "outputs": [
        {
          "output_type": "stream",
          "name": "stdout",
          "text": [
            "21\n"
          ]
        }
      ]
    }
  ],
  "metadata": {
    "colab": {
      "collapsed_sections": [],
      "name": "Python Classes and Objects",
      "provenance": [],
      "include_colab_link": true
    },
    "kernelspec": {
      "display_name": "Python 3",
      "name": "python3"
    }
  },
  "nbformat": 4,
  "nbformat_minor": 0
}