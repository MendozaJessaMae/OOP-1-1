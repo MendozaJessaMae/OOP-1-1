{
  "cells": [
    {
      "cell_type": "markdown",
      "metadata": {
        "id": "view-in-github",
        "colab_type": "text"
      },
      "source": [
        "<a href=\"https://colab.research.google.com/github/MendozaJessaMae/OOP-1-1/blob/main/GUI.ipynb\" target=\"_parent\"><img src=\"https://colab.research.google.com/assets/colab-badge.svg\" alt=\"Open In Colab\"/></a>"
      ]
    },
    {
      "cell_type": "markdown",
      "source": [
        "Student' Grade in OOP subject"
      ],
      "metadata": {
        "id": "jV8pZTStSkkB"
      }
    },
    {
      "cell_type": "code",
      "source": [
        "#@title Students' Grade in OOP\n",
        "student_name = \"Enter the name\" #@param{type:\"string\"}\n",
        "prelim = 90 #@param {type:'number'}\n",
        "midterm = 85 #@param {type:'number'}\n",
        "final = 100 #@param {type:'number'}\n",
        "semestral_grade = round((prelim + midterm + final)/3,2)\n",
        "\n",
        "print(\"My prelim grade is\" + str(prelim))\n",
        "print(\"My midterm grade is\" + str(midterm))\n",
        "print(\"My final grade is\" + str(final))\n",
        "print(\"My semestral grade is:\" + str(semestral_grade))\n",
        "\n",
        "Gender = \"Female\" #@param [\"Male\",\"Female\"]\n",
        "BirthDate = '2022-04-07' #@param{type:\"date\"}\n",
        "\n",
        "print(\"My birthdate is:\" + BirthDate)\n"
      ],
      "metadata": {
        "colab": {
          "base_uri": "https://localhost:8080/"
        },
        "id": "_5ZlOiFpVRE-",
        "outputId": "3f420940-4abf-4ffc-8a4d-898536b25ef6"
      },
      "execution_count": 3,
      "outputs": [
        {
          "output_type": "stream",
          "name": "stdout",
          "text": [
            "My prelim grade is90\n",
            "My midterm grade is85\n",
            "My final grade is100\n",
            "My semestral grade is:91.67\n",
            "My birthdate is:2022-04-07\n"
          ]
        }
      ]
    },
    {
      "cell_type": "markdown",
      "source": [
        "Tkinter module - pycharm"
      ],
      "metadata": {
        "id": "FhD_Hh4QY-Hy"
      }
    }
  ],
  "metadata": {
    "colab": {
      "collapsed_sections": [],
      "name": "GUI",
      "provenance": [],
      "include_colab_link": true
    },
    "kernelspec": {
      "display_name": "Python 3",
      "name": "python3"
    }
  },
  "nbformat": 4,
  "nbformat_minor": 0
}