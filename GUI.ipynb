{
  "cells": [
    {
      "cell_type": "markdown",
      "metadata": {
        "id": "view-in-github",
        "colab_type": "text"
      },
      "source": [
        "<a href=\"https://colab.research.google.com/github/MendozaJessaMae/OOP-1-1/blob/main/GUI.ipynb\" target=\"_parent\"><img src=\"https://colab.research.google.com/assets/colab-badge.svg\" alt=\"Open In Colab\"/></a>"
      ]
    },
    {
      "cell_type": "markdown",
      "source": [
        "Student' Grade in OOP subject"
      ],
      "metadata": {
        "id": "jV8pZTStSkkB"
      }
    },
    {
      "cell_type": "code",
      "source": [
        "#@title Students' Grade in OOP\n",
        "student_name = \"Jessa Mae Mendoza\" #@param{type:\"string\"}\n",
        "prelim = 90 #@param {type:'number'}\n",
        "midterm = 85 #@param {type:'number'}\n",
        "final = 100 #@param {type:'number'}\n",
        "semestral_grade = round((prelim + midterm + final)/3,2)\n",
        "\n",
        "print(\"Grades of student:\",student_name)\n",
        "print(\"My prelim grade is:\" + str(prelim))\n",
        "print(\"My midterm grade is:\" + str(midterm))\n",
        "print(\"My final grade is:\" + str(final))\n",
        "print(\"My semestral grade is:\" + str(semestral_grade))\n",
        "\n",
        "Gender = \"Female\" #@param [\"Male\",\"Female\"]\n",
        "BirthDate = '2002-10-02' #@param{type:\"date\"}\n",
        "\n",
        "print(\"I am a\", Gender)\n",
        "print(\"My birthdate is:\" + BirthDate)\n"
      ],
      "metadata": {
        "colab": {
          "base_uri": "https://localhost:8080/"
        },
        "id": "_5ZlOiFpVRE-",
        "outputId": "452acef2-be20-4088-8e70-9ef39d3b7485"
      },
      "execution_count": 5,
      "outputs": [
        {
          "output_type": "stream",
          "name": "stdout",
          "text": [
            "Grades of student: Jessa Mae Mendoza\n",
            "My prelim grade is:90\n",
            "My midterm grade is:85\n",
            "My final grade is:100\n",
            "My semestral grade is:91.67\n",
            "I am a Female\n",
            "My birthdate is:2002-10-02\n"
          ]
        }
      ]
    },
    {
      "cell_type": "markdown",
      "source": [
        "Tkinter module - pycharm"
      ],
      "metadata": {
        "id": "FhD_Hh4QY-Hy"
      }
    }
  ],
  "metadata": {
    "colab": {
      "collapsed_sections": [],
      "name": "GUI",
      "provenance": [],
      "include_colab_link": true
    },
    "kernelspec": {
      "display_name": "Python 3",
      "name": "python3"
    }
  },
  "nbformat": 4,
  "nbformat_minor": 0
}