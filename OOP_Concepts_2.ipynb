{
  "cells": [
    {
      "cell_type": "markdown",
      "metadata": {
        "id": "view-in-github",
        "colab_type": "text"
      },
      "source": [
        "<a href=\"https://colab.research.google.com/github/MendozaJessaMae/OOP-1-1/blob/main/OOP_Concepts_2.ipynb\" target=\"_parent\"><img src=\"https://colab.research.google.com/assets/colab-badge.svg\" alt=\"Open In Colab\"/></a>"
      ]
    },
    {
      "cell_type": "markdown",
      "source": [
        "Application 1\n",
        "1. Create a Python program that displays the name of three students (Student 1, Student 2, Student 3) and their term grades\n",
        "2. Create a class name Person and attributes - std1, std2, std3, pre,mid,fin\n",
        "3. Compute the average of each term using Grade() method\n",
        "4. Information about student's grades must be hidden from others"
      ],
      "metadata": {
        "id": "qjr654wzmidJ"
      }
    },
    {
      "cell_type": "code",
      "source": [
        "class Person:\n",
        "  def __init__(self):\n",
        "    self.name = input(\"\\nEnter your name:\")\n",
        "\n",
        "  def Grade_input(self):\n",
        "    self.prelim = float(input(\"Enter Prelim Grades:\"))\n",
        "    self.midterm = float(input(\"Enter Midterm Grades:\"))\n",
        "    self.finals = float(input(\"Enter Finals Grades:\"))\n",
        "  def Grade(self):\n",
        "    print(\"Average:\",((self.prelim * .3) + (self.midterm * .3) + (self.finals * .4)))\n",
        "\n",
        "class Student(Person):\n",
        "  def student_info(self):\n",
        "    total = self.prelim + self.midterm + self.finals\n",
        "    average = final//3\n",
        "    list = []\n",
        "    list.append(self.name)\n",
        "    list.append(total)\n",
        "    print(list)\n",
        "\n",
        "S1 = Person()\n",
        "S1.Grade_input()\n",
        "S1.Grade()\n",
        "\n",
        "S2 = Person()\n",
        "S2.Grade_input()\n",
        "S2.Grade()\n",
        "\n",
        "S3 = Person()\n",
        "S3.Grade_input()\n",
        "S3.Grade()\n",
        "\n",
        "\n"
      ],
      "metadata": {
        "id": "9aNtq2GZfV-t",
        "outputId": "a98a07dc-4cd5-4cf0-cbbb-a4908fdbd4fe",
        "colab": {
          "base_uri": "https://localhost:8080/"
        }
      },
      "execution_count": 1,
      "outputs": [
        {
          "output_type": "stream",
          "name": "stdout",
          "text": [
            "\n",
            "Enter your name:Student 1\n",
            "Enter Prelim Grades:1.25\n",
            "Enter Midterm Grades:1.50\n",
            "Enter Finals Grades:1.75\n",
            "Average: 1.525\n",
            "\n",
            "Enter your name:Student 2\n",
            "Enter Prelim Grades:1.50\n",
            "Enter Midterm Grades:2.25\n",
            "Enter Finals Grades:1.25\n",
            "Average: 1.625\n",
            "\n",
            "Enter your name:Student 3\n",
            "Enter Prelim Grades:1.00\n",
            "Enter Midterm Grades:1.25\n",
            "Enter Finals Grades:1.00\n",
            "Average: 1.0750000000000002\n"
          ]
        }
      ]
    }
  ],
  "metadata": {
    "colab": {
      "collapsed_sections": [],
      "name": "OOP Concepts 2",
      "provenance": [],
      "include_colab_link": true
    },
    "kernelspec": {
      "display_name": "Python 3",
      "name": "python3"
    }
  },
  "nbformat": 4,
  "nbformat_minor": 0
}