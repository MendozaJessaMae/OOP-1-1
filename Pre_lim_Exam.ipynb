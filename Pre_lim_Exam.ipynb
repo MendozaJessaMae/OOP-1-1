{
  "cells": [
    {
      "cell_type": "markdown",
      "metadata": {
        "id": "view-in-github",
        "colab_type": "text"
      },
      "source": [
        "<a href=\"https://colab.research.google.com/github/MendozaJessaMae/OOP-1-1/blob/main/Pre_lim_Exam.ipynb\" target=\"_parent\"><img src=\"https://colab.research.google.com/assets/colab-badge.svg\" alt=\"Open In Colab\"/></a>"
      ]
    },
    {
      "cell_type": "code",
      "source": [
        "class Student:\n",
        "  def __init__(Myself,fullname,student_no,age,school,course):\n",
        "    Myself.fullname = fullname\n",
        "    Myself.student_no = student_no\n",
        "    Myself.age = age\n",
        "    Myself.school = school\n",
        "    Myself.course = course\n",
        "\n",
        "  def Info(Myself):\n",
        "    #print(Myself.fullname,self.student_no,self.age,self.course,self.school)\n",
        "    print(\"My Name is\", Myself.fullname)\n",
        "    print(\"My Student number is\", Myself.student_no)\n",
        "    print(\"My Age is\", Myself.age)\n",
        "    print(\"My School is\", Myself.school)\n",
        "    print(\"My Course is\", Myself.course)\n",
        "\n",
        "student = Student(\"Jessa Mae Mendoza\",202102187,\"19 years old\",\"CvSU-Indang Campus\",\"BS CPE\")\n",
        "student.Info()"
      ],
      "metadata": {
        "colab": {
          "base_uri": "https://localhost:8080/"
        },
        "id": "c_XDkj4ZLtsk",
        "outputId": "c236c095-fb2e-428f-c439-c9505a90690f"
      },
      "execution_count": 1,
      "outputs": [
        {
          "output_type": "stream",
          "name": "stdout",
          "text": [
            "My Name is Jessa Mae Mendoza\n",
            "My Student number is 202102187\n",
            "My Age is 19 years old\n",
            "My School is CvSU-Indang Campus\n",
            "My Course is BS CPE\n"
          ]
        }
      ]
    }
  ],
  "metadata": {
    "colab": {
      "collapsed_sections": [],
      "name": "Pre-lim Exam",
      "provenance": [],
      "include_colab_link": true
    },
    "kernelspec": {
      "display_name": "Python 3",
      "name": "python3"
    }
  },
  "nbformat": 4,
  "nbformat_minor": 0
}