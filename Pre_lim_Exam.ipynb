{
  "cells": [
    {
      "cell_type": "markdown",
      "metadata": {
        "id": "view-in-github",
        "colab_type": "text"
      },
      "source": [
        "<a href=\"https://colab.research.google.com/github/MendozaJessaMae/OOP-1-1/blob/main/Pre_lim_Exam.ipynb\" target=\"_parent\"><img src=\"https://colab.research.google.com/assets/colab-badge.svg\" alt=\"Open In Colab\"/></a>"
      ]
    },
    {
      "cell_type": "markdown",
      "source": [
        "Problem 2. (50 points)\n",
        "\n",
        "1.\tWrite a Python to display your full name, student number, age, school and course\n",
        "2.\tCreate a class named Student with attributes: Name, Student_No, Age, School, and Course\n",
        "3.\tCreate an object name Myself and assign an instance for each attribute.\n",
        "4.\tCreate a method Info() using an instantiation of a class.\n",
        "5.\tInsert your GitHub link \"Prelim Exam\" from your repository named \"OOP 1-1\"\n",
        "\n"
      ],
      "metadata": {
        "id": "YW87eD0gQFUP"
      }
    },
    {
      "cell_type": "code",
      "source": [
        "class Student:\n",
        "  def __init__(Myself,fullname,student_no,age,school,course):\n",
        "    Myself.fullname = fullname\n",
        "    Myself.student_no = student_no\n",
        "    Myself.age = age\n",
        "    Myself.school = school\n",
        "    Myself.course = course\n",
        "\n",
        "  def Info(Myself):\n",
        "    #print(Myself.fullname,self.student_no,self.age,self.course,self.school)\n",
        "    print(\"My Name is\", Myself.fullname)\n",
        "    print(\"My Student number is\", Myself.student_no)\n",
        "    print(\"My Age is\", Myself.age)\n",
        "    print(\"My School is\", Myself.school)\n",
        "    print(\"My Course is\", Myself.course)\n",
        "\n",
        "student = Student(\"Jessa Mae Mendoza\",202102187,\"19 years old\",\"CvSU-Indang Campus\",\"BS CPE\")\n",
        "student.Info()"
      ],
      "metadata": {
        "colab": {
          "base_uri": "https://localhost:8080/"
        },
        "id": "XxKER69zMngW",
        "outputId": "2aa64819-60a7-4434-cbc8-95f07c508f9f"
      },
      "execution_count": null,
      "outputs": [
        {
          "output_type": "stream",
          "name": "stdout",
          "text": [
            "My Name is Jessa Mae Mendoza\n",
            "My Student number is 202102187\n",
            "My Age is 19 years old\n",
            "My School is CvSU-Indang Campus\n",
            "My Course is BS CPE\n"
          ]
        }
      ]
    }
  ],
  "metadata": {
    "colab": {
      "collapsed_sections": [],
      "name": "Pre-lim Exam",
      "provenance": [],
      "include_colab_link": true
    },
    "kernelspec": {
      "display_name": "Python 3",
      "name": "python3"
    }
  },
  "nbformat": 4,
  "nbformat_minor": 0
}